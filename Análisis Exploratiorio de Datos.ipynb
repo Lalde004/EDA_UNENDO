{
 "cells": [
  {
   "cell_type": "markdown",
   "id": "bf7d7673-b439-4b8e-91ab-4de350359f89",
   "metadata": {},
   "source": [
    "# Parte 1: Introducción al Análisis Exploratorio de Datos (EDA) #"
   ]
  },
  {
   "cell_type": "markdown",
   "id": "bd7bc15e-0cd7-483e-8366-a0a4c37355e8",
   "metadata": {},
   "source": [
    "El EDA es el proceso de analizar y resumir conjuntos de datos para descubrir patrones, detectar anomalías y verificar suposiciones."
   ]
  },
  {
   "cell_type": "markdown",
   "id": "67ab7f1b-a2d3-4eed-add1-68bcfbebbfce",
   "metadata": {},
   "source": [
    "### Objetivos clave del EDA ###"
   ]
  },
  {
   "cell_type": "markdown",
   "id": "6811c701-949b-4df6-9877-7b2a6e7b07d3",
   "metadata": {},
   "source": [
    "1. **Entender la estructura de los datos**: Obtén una idea de los tipos de datos y las distribuciones\n",
    "2. **Detectar problemas de calidad de los datos**: Identifica valores faltantes, duplicados y outliers.\n",
    "3. **Generar hipótesis**: Forma ideas para un análisis posterior."
   ]
  },
  {
   "cell_type": "markdown",
   "id": "2795cb1c-725c-49db-b59b-b7e47ff4a794",
   "metadata": {},
   "source": [
    "### Herramientas para el EDA ###"
   ]
  },
  {
   "cell_type": "markdown",
   "id": "4e2933be-d6f1-4d6a-b5dc-860ed5eac94f",
   "metadata": {},
   "source": [
    " - Bibliotecas de Python como **Pandas, Matplotlib, y Seaborn** son comúnmente usadas.\n",
    " - Visualizar datos mediante gráficos (histogramas, diagramas de caja, gráficos de dispersión) ayuda a entender la estructura."
   ]
  },
  {
   "cell_type": "markdown",
   "id": "b6b902aa-276e-4eab-bb2e-80d381a55526",
   "metadata": {},
   "source": [
    "# Parte 2: Guía práctica del EDA #"
   ]
  },
  {
   "cell_type": "markdown",
   "id": "f6cb4ed2-1e67-47c7-8d12-ef8a816b44fc",
   "metadata": {},
   "source": [
    "Cargar e inspeccionar los datos:"
   ]
  },
  {
   "cell_type": "markdown",
   "id": "318a0093-ff79-4717-9559-630cbd4662f8",
   "metadata": {},
   "source": [
    " **1. Cargar datos con Pandas:**"
   ]
  },
  {
   "cell_type": "code",
   "execution_count": null,
   "id": "41b12625-4530-4bf5-a6be-e566c2c4a43f",
   "metadata": {},
   "outputs": [],
   "source": [
    "import pandas as pd"
   ]
  },
  {
   "cell_type": "code",
   "execution_count": null,
   "id": "fbc8225b-46f6-479b-b617-4dfc66477aed",
   "metadata": {},
   "outputs": [],
   "source": [
    "df = pd.read_csv(\"C:/Users/lalde/Downloads/heart-disease.csv\")"
   ]
  },
  {
   "cell_type": "markdown",
   "id": "fff6e317-b4b0-440e-8978-998343b52559",
   "metadata": {},
   "source": [
    " **2. Obtener una vista rápida:**"
   ]
  },
  {
   "cell_type": "code",
   "execution_count": null,
   "id": "169c5833-9010-457e-9f65-9b20d645728d",
   "metadata": {},
   "outputs": [],
   "source": [
    "#Muestra la primeras filas\n",
    "df.head()"
   ]
  },
  {
   "cell_type": "code",
   "execution_count": null,
   "id": "b704ab85-201c-4005-b463-979d63831333",
   "metadata": {},
   "outputs": [],
   "source": [
    "#Obtener la forma del conjunto de datos (filas y columnas)\n",
    "df.shape"
   ]
  },
  {
   "cell_type": "code",
   "execution_count": null,
   "id": "8a6fbb99-6bec-4877-aafa-2c2d0028e6de",
   "metadata": {},
   "outputs": [],
   "source": [
    "#Obtener tipos de datos:\n",
    "df.info()"
   ]
  },
  {
   "cell_type": "code",
   "execution_count": null,
   "id": "7b527608-32eb-4c14-9eb4-e66f238668c1",
   "metadata": {},
   "outputs": [],
   "source": [
    "#Resumir datos numéricos\n",
    "df.describe()"
   ]
  },
  {
   "cell_type": "markdown",
   "id": "70b7d9dd-a924-4056-a79a-26feec58bf70",
   "metadata": {},
   "source": [
    "### Visualización de datos: ###"
   ]
  },
  {
   "cell_type": "markdown",
   "id": "29ef03d1-c5a0-44a4-b9ed-9e784f3d5896",
   "metadata": {},
   "source": [
    "1. **Histogramas** (para distribución de datos numéricos):"
   ]
  },
  {
   "cell_type": "code",
   "execution_count": null,
   "id": "fd18a796-0511-4691-92d0-e4c021482d5a",
   "metadata": {},
   "outputs": [],
   "source": [
    "import matplotlib.pyplot as plt\n",
    "df['age'].hist(bins=20)\n",
    "plt.title('Distribución de la edad')\n",
    "plt.xlabel('Edad')\n",
    "plt.ylabel('Frecuencia')\n",
    "plt.show()"
   ]
  },
  {
   "cell_type": "markdown",
   "id": "29c231f9-29a7-4000-b4dd-27352270f5ee",
   "metadata": {},
   "source": [
    "2. **Boxplot** (para detectar outliers en un atributo):"
   ]
  },
  {
   "cell_type": "code",
   "execution_count": null,
   "id": "9b2babf8-ed3b-4cb5-b3e2-170a28f4be34",
   "metadata": {},
   "outputs": [],
   "source": [
    "import seaborn as sns\n",
    "sns.boxplot(df['chol'])\n",
    "plt.title('Colesterol')\n",
    "plt.show()"
   ]
  },
  {
   "cell_type": "markdown",
   "id": "735f8b7b-a943-4896-b247-d264775768b2",
   "metadata": {},
   "source": [
    "3. **Mapa de Calor de Correlación** (para identificar relaciones entre las variables):"
   ]
  },
  {
   "cell_type": "code",
   "execution_count": null,
   "id": "3bfd8d73-1ceb-4d8d-b3f9-f50fbf95f150",
   "metadata": {},
   "outputs": [],
   "source": [
    "plt.figure(figsize=(12, 10))\n",
    "sns.heatmap(df.corr(), annot=True, cmap='coolwarm', linewidths=0.5)\n",
    "plt.title('Correlation Heatmap')\n",
    "plt.tight_layout()\n",
    "plt.show()"
   ]
  },
  {
   "cell_type": "markdown",
   "id": "3b44a9d6-8b32-49d6-b85b-333c0f0507a9",
   "metadata": {},
   "source": [
    "# Parte 3: Limpieza de Datos #"
   ]
  },
  {
   "cell_type": "markdown",
   "id": "85cf99f6-c03a-4897-a07e-145617960305",
   "metadata": {},
   "source": [
    "Problemas Comunes a Abordar:"
   ]
  },
  {
   "cell_type": "markdown",
   "id": "b09674aa-56e7-41fb-9b04-3ffb1fa5933e",
   "metadata": {},
   "source": [
    "1. **Datos Faltantes**"
   ]
  },
  {
   "cell_type": "code",
   "execution_count": null,
   "id": "2c67f392-0766-446a-b32e-4072aae57131",
   "metadata": {},
   "outputs": [],
   "source": [
    "#Identificar valores faltantes\n",
    "df.isnull().sum()"
   ]
  },
  {
   "cell_type": "code",
   "execution_count": null,
   "id": "b924e00e-d413-4775-8a18-26ca76948d89",
   "metadata": {},
   "outputs": [],
   "source": [
    "#Eliminar filas o columnas con valores faltantes\n",
    "df.dropna(inplace=True)"
   ]
  },
  {
   "cell_type": "code",
   "execution_count": null,
   "id": "a6c0cfd3-db37-41c2-ab1c-6b082ce3d87e",
   "metadata": {},
   "outputs": [],
   "source": [
    "#Rellenar valores faltantes con la media o mediana\n",
    "df['chol'].fillna(df['chol'].mean(), inplace=True)"
   ]
  },
  {
   "cell_type": "markdown",
   "id": "fd16d0a1-c8b7-45fe-99d5-b1675d6dd7a8",
   "metadata": {},
   "source": [
    "2. **Manejo de duplicadas:**"
   ]
  },
  {
   "cell_type": "code",
   "execution_count": null,
   "id": "0d2916e8-dd9c-4efd-852c-9b82d3c5ead7",
   "metadata": {},
   "outputs": [],
   "source": [
    "#Eliminar filas duplicadas:\n",
    "df.drop_duplicates(inplace=True)"
   ]
  },
  {
   "cell_type": "markdown",
   "id": "07c8f20c-7813-4c1e-b0a7-dc7dd1a58073",
   "metadata": {},
   "source": [
    "3. **Outliers**:"
   ]
  },
  {
   "cell_type": "markdown",
   "id": "5827d2e7-d7a9-4c68-a39e-07e39b311301",
   "metadata": {},
   "source": [
    "Un outlier (valor atípico) es un dato que se encuentra significativamente alejado de la mayoría de los valores en un conjunto de datos. Puede ser mucho más grande o mucho más pequeño que los otros valores, lo que lo hace sobresalir del resto. Los outliers pueden surgir por diversas razones, como errores en la recolección de datos, entradas incorrectas o fenómenos inusuales en los datos que no siguen las tendencias esperadas."
   ]
  },
  {
   "cell_type": "code",
   "execution_count": null,
   "id": "ed55e287-c284-490c-92b8-15f056b286b0",
   "metadata": {},
   "outputs": [],
   "source": [
    "#Detectar y manejar outliers usando el método del Rango Intercuartil (IQR)\n",
    "Q1 = df['chol'].quantile(0.25)\n",
    "Q3 = df['chol'].quantile(0.75)\n",
    "IQR = Q3 - Q1\n",
    "df = df[~((df['chol'] < (Q1 - 1.5 * IQR)) | (df['chol'] > (Q3 + 1.5 * IQR)))]"
   ]
  },
  {
   "cell_type": "markdown",
   "id": "f395653d-1358-44b0-bf3e-e91034aeea77",
   "metadata": {},
   "source": [
    "# Parte 4: Normalización de Datos #"
   ]
  },
  {
   "cell_type": "markdown",
   "id": "d1fbe498-9fd4-4993-97be-bdfcdb82f93e",
   "metadata": {},
   "source": [
    "¿Por qué normalizar los datos?\n",
    "\n",
    "La normalización es crucial cuando se tienen atributos con diferentes escalas, como edad y colesterol. La normalización coloca estos valores en una misma escala, lo que facilita el proceso de modelado."
   ]
  },
  {
   "cell_type": "markdown",
   "id": "b207a8cc-005d-49a8-84df-710ceeb515eb",
   "metadata": {},
   "source": [
    "### Métodos de Normalización: ###"
   ]
  },
  {
   "cell_type": "markdown",
   "id": "64281bf0-8091-46c4-81d6-935d672cf82e",
   "metadata": {},
   "source": [
    "1. **Escalado Min-Max**"
   ]
  },
  {
   "cell_type": "markdown",
   "id": "a9f70184-91a1-477e-901d-ca1327d50ba7",
   "metadata": {},
   "source": [
    "Este método ajusta los valores de los datos para que se encuentren en un rango específico, generalmente entre 0 y 1. Se utiliza cuando los datos tienen diferentes rangos y es necesario llevarlos a una escala común."
   ]
  },
  {
   "cell_type": "code",
   "execution_count": null,
   "id": "de16677a-3ffe-4b77-ad16-dc601460442f",
   "metadata": {},
   "outputs": [],
   "source": [
    "from sklearn.preprocessing import MinMaxScaler\n",
    "scaler = MinMaxScaler()\n",
    "df[['age', 'chol']] = scaler.fit_transform(df[['age', 'chol']])"
   ]
  },
  {
   "cell_type": "markdown",
   "id": "2827f292-7540-4ac2-95e0-792c2f5fc656",
   "metadata": {},
   "source": [
    " 2. **Estandarización**"
   ]
  },
  {
   "cell_type": "markdown",
   "id": "0fbcd1d0-80e8-4398-91ea-0d09cce92c7a",
   "metadata": {},
   "source": [
    "La estandarización transforma los datos para que tengan una media de 0 y una desviación estándar de 1. Es decir, ajusta los datos para que sigan una distribución normal estándar. Esto es importante cuando los modelos de machine learning requieren que las características tengan una distribución más cercana a la normalidad."
   ]
  },
  {
   "cell_type": "code",
   "execution_count": null,
   "id": "eb818e9b-10ed-4902-beae-78b8ec82af98",
   "metadata": {},
   "outputs": [],
   "source": [
    "from sklearn.preprocessing import StandardScaler\n",
    "scaler = StandardScaler()\n",
    "df[['age', 'chol']] = scaler.fit_transform(df[['age', 'chol']])"
   ]
  },
  {
   "cell_type": "markdown",
   "id": "d730e054-6f01-4dc3-a02b-4b4c83a7f077",
   "metadata": {},
   "source": [
    "3. **Transformación Logarítmica** (para datos sesgados como los niveles de colesterol):"
   ]
  },
  {
   "cell_type": "markdown",
   "id": "0a85a45a-4308-4c3b-aa5d-6e7f525c0119",
   "metadata": {},
   "source": [
    "La transformación logarítmica se utiliza para manejar distribuciones asimétricas o sesgadas (skewed data), como puede ser el caso de los niveles de colesterol, donde algunos valores son extremadamente grandes en comparación con otros."
   ]
  },
  {
   "cell_type": "code",
   "execution_count": null,
   "id": "1b6dea6a-f55f-4d0e-bd28-3776c37ffc3e",
   "metadata": {},
   "outputs": [],
   "source": [
    "import numpy as np\n",
    "df['chol'] = np.log(df['chol'] + 1)"
   ]
  },
  {
   "cell_type": "markdown",
   "id": "39c972e0-743c-4c37-85bd-92da16f5ff59",
   "metadata": {},
   "source": [
    "**np.log()**: Aplica el logaritmo natural a cada valor de la columna chol, lo cual reduce el impacto de los valores extremadamente grandes y aproxima la distribución a una curva más normal.\n",
    " - +1: Se agrega 1 para evitar problemas con valores de 0, ya que el logaritmo de 0 no está definido."
   ]
  },
  {
   "cell_type": "markdown",
   "id": "8e5ebe99-ca70-459b-813d-4d6a7b706268",
   "metadata": {},
   "source": [
    "# Parte 5: Ejercicio Práctico #"
   ]
  },
  {
   "cell_type": "markdown",
   "id": "2037295e-6b6b-4bc0-acf4-7f2c3ed04f41",
   "metadata": {},
   "source": [
    "1. Busca una base de datos que te interesa. Los datos tienen que estar cargados  en formato .csv (Excel)\n",
    "2. Cargar el dataset\n",
    "3. Realizar un EDA completo\n",
    "   - Usar .head(), .describe(), .info() para explorar los datos\n",
    "   - Visualizar distribuciones usando histogramas y diagramas de caja\n",
    "   - Detectar correlaciones entre las variables\n",
    "4. Identificar y manejar datos faltantes, duplicados, y outliers\n",
    "5. Normalizar los datos usando escalado Min-Max o estandarización"
   ]
  },
  {
   "cell_type": "markdown",
   "id": "01dd295d-948e-4dfa-8d77-60e32603f4f3",
   "metadata": {},
   "source": [
    "### Resumen y Buenas Prácticas ###"
   ]
  },
  {
   "cell_type": "markdown",
   "id": "358e1d26-4cda-432e-b343-bf725547f909",
   "metadata": {},
   "source": [
    "- **Siempre explora tus datos** antes de entrenar cualquier modelo\n",
    "- **Visualiza patrones** en los datos para obtener información útil\n",
    "- **Limpieza de datos**: los datos sucios afectan el rendimiento del modelo.\n",
    "- **Normalización** es importante cuando las variables tienen diferentes escalas."
   ]
  },
  {
   "cell_type": "code",
   "execution_count": null,
   "id": "edd2e2a6-9864-4242-9b54-189c8bbdc376",
   "metadata": {},
   "outputs": [],
   "source": []
  }
 ],
 "metadata": {
  "kernelspec": {
   "display_name": "Python 3 (ipykernel)",
   "language": "python",
   "name": "python3"
  },
  "language_info": {
   "codemirror_mode": {
    "name": "ipython",
    "version": 3
   },
   "file_extension": ".py",
   "mimetype": "text/x-python",
   "name": "python",
   "nbconvert_exporter": "python",
   "pygments_lexer": "ipython3",
   "version": "3.12.4"
  }
 },
 "nbformat": 4,
 "nbformat_minor": 5
}
